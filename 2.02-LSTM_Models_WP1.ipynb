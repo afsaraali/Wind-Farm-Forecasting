{
 "cells": [
  {
   "cell_type": "code",
   "execution_count": 1,
   "id": "5dc1235b-8fa0-44d3-aa6c-cb935ce46994",
   "metadata": {},
   "outputs": [],
   "source": [
    "import pandas as pd\n",
    "import numpy as np\n",
    "import seaborn as sns\n",
    "import matplotlib.pyplot as plt\n",
    "%matplotlib inline\n",
    "\n",
    "from keras.models import Sequential\n",
    "from keras.layers import Dense\n",
    "from keras.layers import LSTM\n",
    "import tensorflow as tf\n",
    "tf.random.set_seed(42)\n",
    "\n",
    "from sklearn.metrics import mean_squared_error\n",
    "\n",
    "from statsmodels.tsa.base.prediction import PredictionResults\n",
    "\n",
    "import itertools as it\n",
    "import time\n",
    "from tqdm import tqdm_notebook\n",
    "from ipywidgets import interact, Dropdown"
   ]
  },
  {
   "cell_type": "code",
   "execution_count": 2,
   "id": "306de398-239f-4576-9846-164b4669dd32",
   "metadata": {},
   "outputs": [],
   "source": [
    "power_train = pd.read_csv('./datasets/power_train.csv', index_col=0)\n",
    "power_train.index = pd.DatetimeIndex(power_train.index, freq='H')\n",
    "\n",
    "power_val_data = pd.read_csv('./datasets/power_val_data.csv', index_col=0)\n",
    "power_val_data.index = pd.DatetimeIndex(power_val_data.index)\n",
    "\n",
    "power_val_target = pd.read_csv('./datasets/power_val_target.csv', index_col=0)\n",
    "power_val_target.index = pd.DatetimeIndex(power_val_target.index)\n",
    "\n",
    "# restrict analysis to wind farm 1\n",
    "\n",
    "wp1_train = power_train['wp1']\n",
    "wp1_val_data = power_val_data['wp1']\n",
    "wp1_val_target = power_val_target['wp1']\n",
    "\n",
    "wp1_predictions_sarimax = pd.read_csv('./datasets/wp1_predictions_sarimax.csv', index_col=0)\n",
    "wp1_predictions_sarimax.index = pd.DatetimeIndex(wp1_predictions_sarimax.index)"
   ]
  },
  {
   "cell_type": "code",
   "execution_count": 3,
   "id": "f1f9b1d8-3db4-489f-8936-0fb3e6a759ea",
   "metadata": {},
   "outputs": [],
   "source": [
    "# define function to set up data in correct format for LSTM\n",
    "def format_training_data(timeseries, n_lags, len_target_seq):\n",
    "    \n",
    "    '''formats timeseries into LSTM input format'''\n",
    "    \n",
    "    if not isinstance(timeseries, pd.Series):\n",
    "        timeseries = pd.Series(timeseries.ravel()) # flattens list of lists to one list\n",
    "    \n",
    "    n_shifts = n_lags + len_target_seq\n",
    "    lags = pd.DataFrame({'t'+str(i): timeseries.shift(-i) for i in range(0,n_shifts)})\n",
    "    lags = lags.dropna()\n",
    "    \n",
    "    features = lags.iloc[:,:n_lags]\n",
    "    target = lags.iloc[:, n_lags:]\n",
    "    \n",
    "    features_arr = features.values\n",
    "    features_arr = np.reshape(features_arr, (features_arr.shape[0], features_arr.shape[1], 1))\n",
    "    target_arr = target.values\n",
    "    \n",
    "    return features_arr, target_arr"
   ]
  },
  {
   "cell_type": "code",
   "execution_count": 4,
   "id": "d7f3a0e3-3e04-46fb-9c5c-2e818304c611",
   "metadata": {},
   "outputs": [],
   "source": [
    "def forecast_next_48hrs(model, data):\n",
    "    \n",
    "    '''forecasts next 48 hours of power output'''\n",
    "    \n",
    "    output_size = model.get_config()['layers'][1]['config']['units']\n",
    "    for n in range(48//output_size):\n",
    "        batch_size, num_lags, num_features = model.get_config()['layers'][0]['config']['batch_input_shape']\n",
    "        lag_data = np.reshape(data[-num_lags:].values, (batch_size, num_lags, num_features))\n",
    "        pred = model.predict(lag_data, batch_size=batch_size)[0]\n",
    "        for i in range(len(pred)):\n",
    "            index = [data.index[-1]+pd.Timedelta(hours=i+1)]\n",
    "            data = data.append(pd.Series(pred[i], index))\n",
    "\n",
    "    return data[-48:]"
   ]
  },
  {
   "cell_type": "code",
   "execution_count": 5,
   "id": "9c9ae258-2561-42ba-af47-91503ba1fe3e",
   "metadata": {
    "tags": []
   },
   "outputs": [],
   "source": [
    "def make_forecasts(model, data_series):\n",
    "        \n",
    "    '''forecasts sets of 48 hours of power output in repeated 36 hour windows'''\n",
    "    \n",
    "    predictions = pd.Series()\n",
    "    num_patterns = int(data_series.shape[0]/36) # 36 hours of data, followed by 48 hour gaps\n",
    "    \n",
    "    for pattern_num in range(num_patterns):\n",
    "        data = data_series[36*pattern_num:36*(pattern_num+1)]\n",
    "        forecast = forecast_next_48hrs(model, data)\n",
    "        predictions = predictions.append(forecast)\n",
    "    \n",
    "    return predictions"
   ]
  },
  {
   "cell_type": "code",
   "execution_count": 6,
   "id": "ced7675c-e0c9-4575-a385-cea30ec5d7bb",
   "metadata": {},
   "outputs": [],
   "source": [
    "def build_model(training_data, n_lags, n_outputs, n_nodes, stateful = False, epochs=1, verbose=0):\n",
    "    \n",
    "    # Formatting input data\n",
    "    features, target = format_training_data(training_data, n_lags = n_lags, len_target_seq = n_outputs)\n",
    "    \n",
    "    # Initializing the model\n",
    "    batch_size = 1\n",
    "    model = Sequential()\n",
    "    model.add(LSTM(n_nodes,\n",
    "                  batch_input_shape = (batch_size, features.shape[1], features.shape[2]),\n",
    "                  stateful = stateful))\n",
    "    model.add(Dense(n_outputs)) # no activation function included\n",
    "    \n",
    "    if verbose == 1:\n",
    "        model.summary()\n",
    "    \n",
    "    # Compiling and and fitting the model\n",
    "    model.compile(loss='mean_squared_error', optimizer='adam')\n",
    "    if stateful:\n",
    "        for i in range(epochs): # loop over epochs manually\n",
    "            history = model.fit(features, target, validation_data = None,\n",
    "                 epochs = 1, batch_size = batch_size, verbose=verbose, shuffle=False)\n",
    "            model.reset_states()\n",
    "    else:\n",
    "        history = model.fit(features, target, validation_data = None,\n",
    "             epochs = epochs, batch_size = batch_size, verbose=verbose, shuffle=False)\n",
    "        \n",
    "    return model, history"
   ]
  },
  {
   "cell_type": "code",
   "execution_count": 7,
   "id": "af8826b6-67ca-4597-b53d-3f1a4b77baf1",
   "metadata": {},
   "outputs": [],
   "source": [
    "settings_dict= {'n_lags': [2,36],\n",
    "                'n_outputs': [1,48],\n",
    "                'stateful': [True, False]}\n",
    "\n",
    "settings_combs = list(it.product(*settings_dict.values()))\n",
    "\n",
    "settings = pd.DataFrame(settings_combs, columns=settings_dict.keys())"
   ]
  },
  {
   "cell_type": "code",
   "execution_count": 8,
   "id": "b57ba3ea-eb0e-4ab2-b055-b28901971054",
   "metadata": {
    "tags": []
   },
   "outputs": [
    {
     "name": "stderr",
     "output_type": "stream",
     "text": [
      "<ipython-input-8-85d533f638f3>:7: TqdmDeprecationWarning: This function will be removed in tqdm==5.0.0\n",
      "Please use `tqdm.notebook.tqdm` instead of `tqdm.tqdm_notebook`\n",
      "  for idx in tqdm_notebook(settings.index, desc='Progress', leave=True):\n"
     ]
    },
    {
     "data": {
      "application/vnd.jupyter.widget-view+json": {
       "model_id": "02f5e00a2bd14d7bb3b0c63d7157aae9",
       "version_major": 2,
       "version_minor": 0
      },
      "text/plain": [
       "Progress:   0%|          | 0/8 [00:00<?, ?it/s]"
      ]
     },
     "metadata": {},
     "output_type": "display_data"
    },
    {
     "name": "stderr",
     "output_type": "stream",
     "text": [
      "<ipython-input-5-ffb444c737c1>:5: DeprecationWarning: The default dtype for empty Series will be 'object' instead of 'float64' in a future version. Specify a dtype explicitly to silence this warning.\n",
      "  predictions = pd.Series()\n",
      "<ipython-input-5-ffb444c737c1>:5: DeprecationWarning: The default dtype for empty Series will be 'object' instead of 'float64' in a future version. Specify a dtype explicitly to silence this warning.\n",
      "  predictions = pd.Series()\n",
      "<ipython-input-5-ffb444c737c1>:5: DeprecationWarning: The default dtype for empty Series will be 'object' instead of 'float64' in a future version. Specify a dtype explicitly to silence this warning.\n",
      "  predictions = pd.Series()\n",
      "<ipython-input-5-ffb444c737c1>:5: DeprecationWarning: The default dtype for empty Series will be 'object' instead of 'float64' in a future version. Specify a dtype explicitly to silence this warning.\n",
      "  predictions = pd.Series()\n",
      "<ipython-input-5-ffb444c737c1>:5: DeprecationWarning: The default dtype for empty Series will be 'object' instead of 'float64' in a future version. Specify a dtype explicitly to silence this warning.\n",
      "  predictions = pd.Series()\n",
      "<ipython-input-5-ffb444c737c1>:5: DeprecationWarning: The default dtype for empty Series will be 'object' instead of 'float64' in a future version. Specify a dtype explicitly to silence this warning.\n",
      "  predictions = pd.Series()\n",
      "<ipython-input-5-ffb444c737c1>:5: DeprecationWarning: The default dtype for empty Series will be 'object' instead of 'float64' in a future version. Specify a dtype explicitly to silence this warning.\n",
      "  predictions = pd.Series()\n",
      "<ipython-input-5-ffb444c737c1>:5: DeprecationWarning: The default dtype for empty Series will be 'object' instead of 'float64' in a future version. Specify a dtype explicitly to silence this warning.\n",
      "  predictions = pd.Series()\n"
     ]
    }
   ],
   "source": [
    "# Creating lists to keep track of each model's RMSE and run time.\n",
    "RMSE = []\n",
    "run_time = []\n",
    "\n",
    "\n",
    "#TQDM creates a progress bar to give range of run time for each LSTM\n",
    "for idx in tqdm_notebook(settings.index, desc='Progress', leave=True):\n",
    "    \n",
    "    # Random seed for reproducibility\n",
    "    np.random.seed(42)\n",
    "    \n",
    "    t0 = time.time()\n",
    "    \n",
    "    # Implementing LSTM function with dict parameters on first wind farm\n",
    "    model, history = build_model(wp1_train,\n",
    "                               n_lags = settings.loc[idx,'n_lags'],\n",
    "                               n_outputs = settings.loc[idx,'n_outputs'], \n",
    "                               n_nodes = 2, \n",
    "                               stateful = settings.loc[idx,'stateful'], \n",
    "                               epochs = 3, \n",
    "                               verbose=0)\n",
    "    t1 = time.time()\n",
    "    \n",
    "    # Implementing forecast function\n",
    "    model_predictions = make_forecasts(model, wp1_val_data)\n",
    "    \n",
    "    # Calculating RMSE\n",
    "    model_RMSE = mean_squared_error(y_true = wp1_val_target, y_pred = model_predictions)**0.5\n",
    "    \n",
    "    RMSE.append(model_RMSE)\n",
    "    run_time.append(t1-t0)\n",
    "\n",
    "# Including RMSE and run-time in the model performance dataframe.\n",
    "model_perf = pd.concat([settings, pd.DataFrame(RMSE, columns=['RMSE'])], axis=1)\n",
    "model_perf = pd.concat([model_perf, pd.DataFrame(run_time, columns=['run_time'])], axis=1)"
   ]
  },
  {
   "cell_type": "code",
   "execution_count": 9,
   "id": "abb68653-caec-4574-8807-6fb0efdfc1b6",
   "metadata": {},
   "outputs": [
    {
     "data": {
      "application/vnd.jupyter.widget-view+json": {
       "model_id": "6b2194b2e09d49788a28bfa24998f4df",
       "version_major": 2,
       "version_minor": 0
      },
      "text/plain": [
       "interactive(children=(Dropdown(description='Compare:', options=('n_lags', 'n_outputs', 'stateful'), value='n_l…"
      ]
     },
     "metadata": {},
     "output_type": "display_data"
    }
   ],
   "source": [
    "setting_select = Dropdown(\n",
    "options = list(model_perf.columns[0:3]),\n",
    "value = model_perf.columns[0],\n",
    "description = 'Compare:',\n",
    ")\n",
    "\n",
    "def plot_widget(setting = model_perf.columns[0]):\n",
    "    \n",
    "    sns.lmplot(x='RMSE',y='run_time', data = model_perf, hue = setting, fit_reg=False, \n",
    "               size=5, aspect=2,  scatter_kws={\"s\": 500}, palette = 'Set1');\n",
    "    \n",
    "    sort_cols = list(model_perf.columns[0:3])\n",
    "    sort_cols.remove(setting)\n",
    "    \n",
    "    model_perf.sort_values(by=sort_cols, inplace=True)\n",
    "    for n in range(model_perf.shape[0]//2):\n",
    "        row_pair = model_perf.iloc[n*2:n*2+2,-2:].values\n",
    "        plt.plot(row_pair[:,0], row_pair[:,1], '--', color='k')\n",
    "    \n",
    "    ax = plt.gca()    \n",
    "    \n",
    "    ax.set_xlim(0.2,0.5)\n",
    "    ax.set_ylim(0, 400)\n",
    "    \n",
    "    ax.set_xlabel('RMSE', fontsize=14)\n",
    "    ax.set_ylabel('run time', fontsize=14)\n",
    "    ax.set_title('How model performance varies with {} setting\\n'.format(setting), fontsize=18);\n",
    "    \n",
    "        \n",
    "interact(plot_widget, setting = setting_select);"
   ]
  },
  {
   "cell_type": "code",
   "execution_count": 10,
   "id": "46ffc4f5-0b9c-49e6-9c06-3072655e3644",
   "metadata": {},
   "outputs": [
    {
     "name": "stderr",
     "output_type": "stream",
     "text": [
      "<ipython-input-10-696d4b744843>:3: TqdmDeprecationWarning: This function will be removed in tqdm==5.0.0\n",
      "Please use `tqdm.notebook.tqdm` instead of `tqdm.tqdm_notebook`\n",
      "  for n in tqdm_notebook(range(1,11), desc='Progress', leave=True):\n"
     ]
    },
    {
     "data": {
      "application/vnd.jupyter.widget-view+json": {
       "model_id": "e0d2b57eca4048c99aff3b20ab7b6eb1",
       "version_major": 2,
       "version_minor": 0
      },
      "text/plain": [
       "Progress:   0%|          | 0/10 [00:00<?, ?it/s]"
      ]
     },
     "metadata": {},
     "output_type": "display_data"
    },
    {
     "name": "stderr",
     "output_type": "stream",
     "text": [
      "<ipython-input-5-ffb444c737c1>:5: DeprecationWarning: The default dtype for empty Series will be 'object' instead of 'float64' in a future version. Specify a dtype explicitly to silence this warning.\n",
      "  predictions = pd.Series()\n",
      "<ipython-input-5-ffb444c737c1>:5: DeprecationWarning: The default dtype for empty Series will be 'object' instead of 'float64' in a future version. Specify a dtype explicitly to silence this warning.\n",
      "  predictions = pd.Series()\n",
      "<ipython-input-5-ffb444c737c1>:5: DeprecationWarning: The default dtype for empty Series will be 'object' instead of 'float64' in a future version. Specify a dtype explicitly to silence this warning.\n",
      "  predictions = pd.Series()\n",
      "<ipython-input-5-ffb444c737c1>:5: DeprecationWarning: The default dtype for empty Series will be 'object' instead of 'float64' in a future version. Specify a dtype explicitly to silence this warning.\n",
      "  predictions = pd.Series()\n",
      "<ipython-input-5-ffb444c737c1>:5: DeprecationWarning: The default dtype for empty Series will be 'object' instead of 'float64' in a future version. Specify a dtype explicitly to silence this warning.\n",
      "  predictions = pd.Series()\n",
      "<ipython-input-5-ffb444c737c1>:5: DeprecationWarning: The default dtype for empty Series will be 'object' instead of 'float64' in a future version. Specify a dtype explicitly to silence this warning.\n",
      "  predictions = pd.Series()\n",
      "<ipython-input-5-ffb444c737c1>:5: DeprecationWarning: The default dtype for empty Series will be 'object' instead of 'float64' in a future version. Specify a dtype explicitly to silence this warning.\n",
      "  predictions = pd.Series()\n",
      "<ipython-input-5-ffb444c737c1>:5: DeprecationWarning: The default dtype for empty Series will be 'object' instead of 'float64' in a future version. Specify a dtype explicitly to silence this warning.\n",
      "  predictions = pd.Series()\n",
      "<ipython-input-5-ffb444c737c1>:5: DeprecationWarning: The default dtype for empty Series will be 'object' instead of 'float64' in a future version. Specify a dtype explicitly to silence this warning.\n",
      "  predictions = pd.Series()\n",
      "<ipython-input-5-ffb444c737c1>:5: DeprecationWarning: The default dtype for empty Series will be 'object' instead of 'float64' in a future version. Specify a dtype explicitly to silence this warning.\n",
      "  predictions = pd.Series()\n"
     ]
    }
   ],
   "source": [
    "RMSE_by_node_dict = {}\n",
    "\n",
    "for n in tqdm_notebook(range(1,11), desc='Progress', leave=True):\n",
    "    \n",
    "    np.random.seed(42)\n",
    "    \n",
    "    model, history = build_model(wp1_train, n_lags = 2, n_outputs = 48, n_nodes = n, stateful = False, epochs = 3, verbose=0)\n",
    "    \n",
    "    model_predictions = make_forecasts(model, wp1_val_data)\n",
    "    model_RMSE = mean_squared_error(y_true = wp1_val_target, y_pred = model_predictions)**0.5\n",
    "    \n",
    "    RMSE_by_node_dict[n] = model_RMSE\n",
    "    \n",
    "RMSE_by_node = pd.DataFrame(list(RMSE_by_node_dict.items()), columns=['num_nodes','RMSE'])\n",
    "RMSE_by_node.set_index('num_nodes', inplace=True)"
   ]
  },
  {
   "cell_type": "code",
   "execution_count": 11,
   "id": "5addc634-3b82-4d05-8c7e-8515c8212533",
   "metadata": {},
   "outputs": [
    {
     "data": {
      "image/png": "[encoded data removed]",
      "text/plain": [
       "<Figure size 864x216 with 1 Axes>"
      ]
     },
     "metadata": {
      "needs_background": "light"
     },
     "output_type": "display_data"
    }
   ],
   "source": [
    "fig, ax = plt.subplots(figsize=(12,3))\n",
    "plt.plot(RMSE_by_node.index,RMSE_by_node.values, )\n",
    "ax.set_ylabel('RMSE\\n', fontsize=10)\n",
    "ax.set_xlabel('\\nnumber of nodes', fontsize=10)\n",
    "ax.set_xticks(RMSE_by_node.index)\n",
    "ax.set_title('\\nTest RMSE by number of nodes\\n', fontsize=14);"
   ]
  },
  {
   "cell_type": "code",
   "execution_count": 12,
   "id": "92d45ec3-992d-4edb-8e17-231b9bc9947d",
   "metadata": {},
   "outputs": [
    {
     "name": "stdout",
     "output_type": "stream",
     "text": [
      "Optimal number of nodes: 2\n",
      "RMSE: [0.28574031]\n"
     ]
    }
   ],
   "source": [
    "min_pos = np.argmin(RMSE_by_node.values)\n",
    "print('Optimal number of nodes: '+str(RMSE_by_node.index[min_pos]))\n",
    "print('RMSE: '+str(RMSE_by_node.values[min_pos]))"
   ]
  },
  {
   "cell_type": "code",
   "execution_count": 13,
   "id": "f89e7f3f-7743-4ce6-a821-d15da955c6d2",
   "metadata": {},
   "outputs": [
    {
     "name": "stderr",
     "output_type": "stream",
     "text": [
      "<ipython-input-13-451c7a781a14>:26: TqdmDeprecationWarning: This function will be removed in tqdm==5.0.0\n",
      "Please use `tqdm.notebook.tqdm` instead of `tqdm.tqdm_notebook`\n",
      "  for n in tqdm_notebook(range(1,11), desc='Progress', leave=True):\n"
     ]
    },
    {
     "data": {
      "application/vnd.jupyter.widget-view+json": {
       "model_id": "8373ea33b9a64449b3e0bdc84acd8d1e",
       "version_major": 2,
       "version_minor": 0
      },
      "text/plain": [
       "Progress:   0%|          | 0/10 [00:00<?, ?it/s]"
      ]
     },
     "metadata": {},
     "output_type": "display_data"
    },
    {
     "name": "stderr",
     "output_type": "stream",
     "text": [
      "<ipython-input-5-ffb444c737c1>:5: DeprecationWarning: The default dtype for empty Series will be 'object' instead of 'float64' in a future version. Specify a dtype explicitly to silence this warning.\n",
      "  predictions = pd.Series()\n",
      "<ipython-input-5-ffb444c737c1>:5: DeprecationWarning: The default dtype for empty Series will be 'object' instead of 'float64' in a future version. Specify a dtype explicitly to silence this warning.\n",
      "  predictions = pd.Series()\n",
      "<ipython-input-5-ffb444c737c1>:5: DeprecationWarning: The default dtype for empty Series will be 'object' instead of 'float64' in a future version. Specify a dtype explicitly to silence this warning.\n",
      "  predictions = pd.Series()\n",
      "<ipython-input-5-ffb444c737c1>:5: DeprecationWarning: The default dtype for empty Series will be 'object' instead of 'float64' in a future version. Specify a dtype explicitly to silence this warning.\n",
      "  predictions = pd.Series()\n",
      "<ipython-input-5-ffb444c737c1>:5: DeprecationWarning: The default dtype for empty Series will be 'object' instead of 'float64' in a future version. Specify a dtype explicitly to silence this warning.\n",
      "  predictions = pd.Series()\n",
      "<ipython-input-5-ffb444c737c1>:5: DeprecationWarning: The default dtype for empty Series will be 'object' instead of 'float64' in a future version. Specify a dtype explicitly to silence this warning.\n",
      "  predictions = pd.Series()\n",
      "<ipython-input-5-ffb444c737c1>:5: DeprecationWarning: The default dtype for empty Series will be 'object' instead of 'float64' in a future version. Specify a dtype explicitly to silence this warning.\n",
      "  predictions = pd.Series()\n",
      "<ipython-input-5-ffb444c737c1>:5: DeprecationWarning: The default dtype for empty Series will be 'object' instead of 'float64' in a future version. Specify a dtype explicitly to silence this warning.\n",
      "  predictions = pd.Series()\n",
      "<ipython-input-5-ffb444c737c1>:5: DeprecationWarning: The default dtype for empty Series will be 'object' instead of 'float64' in a future version. Specify a dtype explicitly to silence this warning.\n",
      "  predictions = pd.Series()\n",
      "<ipython-input-5-ffb444c737c1>:5: DeprecationWarning: The default dtype for empty Series will be 'object' instead of 'float64' in a future version. Specify a dtype explicitly to silence this warning.\n",
      "  predictions = pd.Series()\n"
     ]
    }
   ],
   "source": [
    "training_data = wp1_train\n",
    "test_data = wp1_val_data\n",
    "target_data = wp1_val_target\n",
    "n_lags = 2\n",
    "n_outputs = 48\n",
    "n_nodes = 1\n",
    "\n",
    "np.random.seed(42)\n",
    "\n",
    "# format data\n",
    "features, target = format_training_data(training_data, n_lags = n_lags, len_target_seq = n_outputs)\n",
    "    \n",
    "# set up model\n",
    "batch_size = 1\n",
    "model = Sequential()\n",
    "model.add(LSTM(n_nodes,\n",
    "              batch_input_shape = (batch_size, features.shape[1], features.shape[2]),\n",
    "              stateful = False))\n",
    "model.add(Dense(n_outputs)) # output layer, no activation function for regression problem\n",
    "    \n",
    "# compile and fit model\n",
    "model.compile(loss='mean_squared_error', optimizer='adam')\n",
    "    \n",
    "RMSE_by_epoch_dict = {}\n",
    "\n",
    "for n in tqdm_notebook(range(1,11), desc='Progress', leave=True):\n",
    "    \n",
    "    model.fit(features, target, validation_data = None,\n",
    "             epochs = 1, batch_size = batch_size, verbose=0, shuffle=False)\n",
    "        \n",
    "    # test model\n",
    "    LSTM_predictions = make_forecasts(model, test_data)\n",
    "    LSTM_RMSE = mean_squared_error(y_true = target_data, y_pred = LSTM_predictions)**0.5\n",
    "\n",
    "    RMSE_by_epoch_dict[n] = LSTM_RMSE\n",
    "    \n",
    "RMSE_by_epoch = pd.DataFrame(list(RMSE_by_epoch_dict.items()), columns=['num_epochs','RMSE'])\n",
    "RMSE_by_epoch.set_index('num_epochs', inplace=True)"
   ]
  },
  {
   "cell_type": "code",
   "execution_count": 21,
   "id": "7142600b-2c5b-4a9d-bda3-b25e47cd2b4a",
   "metadata": {},
   "outputs": [
    {
     "data": {
      "image/png": "[encoded data removed]",
      "text/plain": [
       "<Figure size 864x216 with 1 Axes>"
      ]
     },
     "metadata": {
      "needs_background": "light"
     },
     "output_type": "display_data"
    }
   ],
   "source": [
    "fig, ax = plt.subplots(figsize=(12,3))\n",
    "plt.plot(RMSE_by_epoch.index,RMSE_by_epoch.values, )\n",
    "ax.set_ylabel('RMSE', fontsize=10)\n",
    "ax.set_xlabel('number of epochs', fontsize=10)\n",
    "ax.set_xticks(RMSE_by_epoch.index)\n",
    "ax.set_title('Test RMSE by number of epochs\\n', fontsize=14);"
   ]
  },
  {
   "cell_type": "code",
   "execution_count": 22,
   "id": "3823a133-903a-4c21-8e70-fc5068c4be2d",
   "metadata": {},
   "outputs": [
    {
     "name": "stdout",
     "output_type": "stream",
     "text": [
      "Optimal number of epochs: 9\n",
      "RMSE: [0.2842184]\n"
     ]
    }
   ],
   "source": [
    "min_pos = np.argmin(RMSE_by_epoch.values)\n",
    "print('Optimal number of epochs: '+str(RMSE_by_epoch.index[min_pos]))\n",
    "print('RMSE: '+str(RMSE_by_epoch.values[min_pos]))"
   ]
  },
  {
   "cell_type": "code",
   "execution_count": 16,
   "id": "cb75748f-142c-4f6e-86d5-7a96fba0f4bd",
   "metadata": {},
   "outputs": [
    {
     "name": "stdout",
     "output_type": "stream",
     "text": [
      "Model: \"sequential_19\"\n",
      "_________________________________________________________________\n",
      "Layer (type)                 Output Shape              Param #   \n",
      "=================================================================\n",
      "lstm_19 (LSTM)               (1, 2)                    32        \n",
      "_________________________________________________________________\n",
      "dense_19 (Dense)             (1, 48)                   144       \n",
      "=================================================================\n",
      "Total params: 176\n",
      "Trainable params: 176\n",
      "Non-trainable params: 0\n",
      "_________________________________________________________________\n",
      "Epoch 1/9\n",
      "10404/10404 [==============================] - 11s 918us/step - loss: 0.0417\n",
      "Epoch 2/9\n",
      "10404/10404 [==============================] - 10s 982us/step - loss: 0.0413\n",
      "Epoch 3/9\n",
      "10404/10404 [==============================] - 11s 1ms/step - loss: 0.0412\n",
      "Epoch 4/9\n",
      "10404/10404 [==============================] - 11s 1ms/step - loss: 0.0410\n",
      "Epoch 5/9\n",
      "10404/10404 [==============================] - 11s 1ms/step - loss: 0.0410\n",
      "Epoch 6/9\n",
      "10404/10404 [==============================] - 11s 1ms/step - loss: 0.0410\n",
      "Epoch 7/9\n",
      "10404/10404 [==============================] - 12s 1ms/step - loss: 0.0410\n",
      "Epoch 8/9\n",
      "10404/10404 [==============================] - 13s 1ms/step - loss: 0.0410\n",
      "Epoch 9/9\n",
      "10404/10404 [==============================] - 13s 1ms/step - loss: 0.0410\n"
     ]
    }
   ],
   "source": [
    "np.random.seed(42)\n",
    "\n",
    "# best settings\n",
    "n_lags = 2\n",
    "n_outputs = 48\n",
    "n_nodes = 2\n",
    "stateful = False\n",
    "epochs = 9\n",
    "\n",
    "model, history = build_model(wp1_train, n_lags, n_outputs, n_nodes, stateful, epochs, verbose=1);"
   ]
  },
  {
   "cell_type": "code",
   "execution_count": 17,
   "id": "a3744059-cb8d-4ee3-83b5-6c94aa024233",
   "metadata": {},
   "outputs": [
    {
     "name": "stderr",
     "output_type": "stream",
     "text": [
      "<ipython-input-5-ffb444c737c1>:5: DeprecationWarning: The default dtype for empty Series will be 'object' instead of 'float64' in a future version. Specify a dtype explicitly to silence this warning.\n",
      "  predictions = pd.Series()\n"
     ]
    },
    {
     "name": "stdout",
     "output_type": "stream",
     "text": [
      "Train RMSE:  0.21182180409217047\n",
      "Test RMSE:  0.28493901310983755\n"
     ]
    }
   ],
   "source": [
    "# as the model predicts 48 hours of forecasts in one step, it is valid to compare train and test scores\n",
    "model_predictions = make_forecasts(model, wp1_val_data)\n",
    "model_RMSE = mean_squared_error(y_true = wp1_val_target, y_pred = model_predictions)**0.5\n",
    "print('Train RMSE: ', history.history['loss'][-1]**0.5)\n",
    "print('Test RMSE: ', model_RMSE)"
   ]
  },
  {
   "cell_type": "code",
   "execution_count": 67,
   "id": "38da82be-7d1b-4e5c-aced-f5ee4c36a72c",
   "metadata": {},
   "outputs": [],
   "source": [
    "def make_widget(model, data_series, target_series = None, alt_prediction = None, alt_label = None):\n",
    "    \n",
    "    num_patterns = int(data_series.shape[0]/36) # 36 hours of data, followed by 48 hour gaps\n",
    "    windows = [str(i)+':  '+ str(data_series.index[36*i])+' - '+str(data_series.index[36*(i+1)-1]) for i in range(num_patterns)]\n",
    "   \n",
    "    style = {'description_width': 'initial'}\n",
    "    \n",
    "    window_select = Dropdown(\n",
    "    options=windows,\n",
    "    value=windows[0],\n",
    "    description='Data window:',\n",
    "    style = style,\n",
    "    layout={'width': '400px'}\n",
    "    )\n",
    "\n",
    "    def plot_widget(data_window = windows[0]):\n",
    "    \n",
    "        # filter dataframe\n",
    "        data_window_int = int(data_window.split(':')[0])\n",
    "        data = data_series[36*data_window_int:36*(data_window_int+1)]\n",
    "        forecast = forecast_next_48hrs(model, data)\n",
    "        \n",
    "        # plot\n",
    "        fig, ax = plt.subplots(figsize=(20,6))\n",
    "        \n",
    "        data.plot(label='observed data', c='k')\n",
    "        forecast.plot(label='LSTM forecast', ax=ax, c='C0')\n",
    "                \n",
    "        if alt_prediction is not None:\n",
    "            alt_forecast = alt_prediction[48*data_window_int:48*(data_window_int+1)]\n",
    "            if isinstance(alt_forecast, pd.DataFrame):\n",
    "                alt_forecast = alt_forecast['forecast']\n",
    "            alt_forecast.plot(label=alt_label, ax=ax, c='C0', style='--')\n",
    "                \n",
    "        if target_series is not None:\n",
    "            target = target_series[48*data_window_int:48*(data_window_int+1)]\n",
    "            target.plot(label='target data', ax=ax, c='grey')\n",
    "            forecast_RMSE = mean_squared_error(y_true = target, y_pred = forecast)**0.5\n",
    "            print('LSTM forecast RMSE:', \"{0:.2f}\".format(forecast_RMSE))\n",
    "            if alt_prediction is not None:\n",
    "                alt_forecast_RMSE = mean_squared_error(y_true = target, y_pred = alt_forecast)**0.5\n",
    "                print(str(alt_label), 'RMSE:', \"{0:.2f}\".format(alt_forecast_RMSE))\n",
    "            \n",
    "        ax.minorticks_off()\n",
    "        idx = pd.date_range(start=data.index[0] - pd.Timedelta(hours=1), end=forecast.index[-1], freq='H') # predicted_mean.index[-1], freq='H'\n",
    "        ax.set_ylim(0,1)\n",
    "\n",
    "        ax.set_xticks(idx[::12])\n",
    "        ax.set_xticklabels(idx[::12].strftime('%Y-%m-%d %H:%M:%S'))\n",
    "        \n",
    "        plt.title('Observed and forecast power output', fontsize=16)\n",
    "        plt.xlabel('Date', fontsize=14)\n",
    "        plt.ylabel('Power output', fontsize=14)\n",
    "\n",
    "        plt.legend()\n",
    "        plt.show()\n",
    "    \n",
    "    interact(plot_widget, data_window=window_select);"
   ]
  },
  {
   "cell_type": "code",
   "execution_count": 68,
   "id": "d4ec124d-00da-4396-8ca2-1c5fca712fb0",
   "metadata": {},
   "outputs": [
    {
     "data": {
      "application/vnd.jupyter.widget-view+json": {
       "model_id": "d200a05464054d9d88fa38780aa791f5",
       "version_major": 2,
       "version_minor": 0
      },
      "text/plain": [
       "interactive(children=(Dropdown(description='Data window:', layout=Layout(width='400px'), options=('0:  2010-09…"
      ]
     },
     "metadata": {},
     "output_type": "display_data"
    }
   ],
   "source": [
    "make_widget(model = model, data_series = wp1_val_data, \n",
    "            target_series = wp1_val_target,\n",
    "            alt_prediction = wp1_predictions_sarimax,\n",
    "            alt_label = 'ARIMA forecast')"
   ]
  },
  {
   "cell_type": "code",
   "execution_count": null,
   "id": "994eda26-330d-47b9-a1c5-ced14f425c27",
   "metadata": {},
   "outputs": [],
   "source": []
  }
 ],
 "metadata": {
  "kernelspec": {
   "display_name": "Python 3",
   "language": "python",
   "name": "python3"
  },
  "language_info": {
   "codemirror_mode": {
    "name": "ipython",
    "version": 3
   },
   "file_extension": ".py",
   "mimetype": "text/x-python",
   "name": "python",
   "nbconvert_exporter": "python",
   "pygments_lexer": "ipython3",
   "version": "3.8.8"
  }
 },
 "nbformat": 4,
 "nbformat_minor": 5
}
