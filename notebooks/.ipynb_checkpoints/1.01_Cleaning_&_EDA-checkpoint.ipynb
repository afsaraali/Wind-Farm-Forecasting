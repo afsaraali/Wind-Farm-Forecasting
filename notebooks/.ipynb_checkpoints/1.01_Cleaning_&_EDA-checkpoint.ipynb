{
 "cells": [
  {
   "cell_type": "markdown",
   "id": "c0af6963-2723-4344-a751-4644499823db",
   "metadata": {},
   "source": [
    "### Imports"
   ]
  },
  {
   "cell_type": "code",
   "execution_count": 2,
   "id": "00f3b164-3916-4624-b998-cd6893e97e8f",
   "metadata": {},
   "outputs": [],
   "source": [
    "import pandas as pd\n",
    "from datetime import datetime\n",
    "import matplotlib.pyplot as plt\n",
    "%matplotlib inline"
   ]
  },
  {
   "cell_type": "code",
   "execution_count": 3,
   "id": "a97137fa-9d2f-4e86-86f4-bc13958c66f4",
   "metadata": {},
   "outputs": [
    {
     "data": {
      "text/html": [
       "<div>\n",
       "<style scoped>\n",
       "    .dataframe tbody tr th:only-of-type {\n",
       "        vertical-align: middle;\n",
       "    }\n",
       "\n",
       "    .dataframe tbody tr th {\n",
       "        vertical-align: top;\n",
       "    }\n",
       "\n",
       "    .dataframe thead th {\n",
       "        text-align: right;\n",
       "    }\n",
       "</style>\n",
       "<table border=\"1\" class=\"dataframe\">\n",
       "  <thead>\n",
       "    <tr style=\"text-align: right;\">\n",
       "      <th></th>\n",
       "      <th>date</th>\n",
       "      <th>wp1</th>\n",
       "      <th>wp2</th>\n",
       "      <th>wp3</th>\n",
       "      <th>wp4</th>\n",
       "      <th>wp5</th>\n",
       "      <th>wp6</th>\n",
       "      <th>wp7</th>\n",
       "    </tr>\n",
       "  </thead>\n",
       "  <tbody>\n",
       "    <tr>\n",
       "      <th>0</th>\n",
       "      <td>2009070100</td>\n",
       "      <td>0.045</td>\n",
       "      <td>0.233</td>\n",
       "      <td>0.494</td>\n",
       "      <td>0.105</td>\n",
       "      <td>0.056</td>\n",
       "      <td>0.118</td>\n",
       "      <td>0.051</td>\n",
       "    </tr>\n",
       "    <tr>\n",
       "      <th>1</th>\n",
       "      <td>2009070101</td>\n",
       "      <td>0.085</td>\n",
       "      <td>0.249</td>\n",
       "      <td>0.257</td>\n",
       "      <td>0.105</td>\n",
       "      <td>0.066</td>\n",
       "      <td>0.066</td>\n",
       "      <td>0.051</td>\n",
       "    </tr>\n",
       "    <tr>\n",
       "      <th>2</th>\n",
       "      <td>2009070102</td>\n",
       "      <td>0.020</td>\n",
       "      <td>0.175</td>\n",
       "      <td>0.178</td>\n",
       "      <td>0.033</td>\n",
       "      <td>0.015</td>\n",
       "      <td>0.026</td>\n",
       "      <td>0.000</td>\n",
       "    </tr>\n",
       "    <tr>\n",
       "      <th>3</th>\n",
       "      <td>2009070103</td>\n",
       "      <td>0.060</td>\n",
       "      <td>0.085</td>\n",
       "      <td>0.109</td>\n",
       "      <td>0.022</td>\n",
       "      <td>0.010</td>\n",
       "      <td>0.013</td>\n",
       "      <td>0.000</td>\n",
       "    </tr>\n",
       "    <tr>\n",
       "      <th>4</th>\n",
       "      <td>2009070104</td>\n",
       "      <td>0.045</td>\n",
       "      <td>0.032</td>\n",
       "      <td>0.079</td>\n",
       "      <td>0.039</td>\n",
       "      <td>0.010</td>\n",
       "      <td>0.000</td>\n",
       "      <td>0.000</td>\n",
       "    </tr>\n",
       "  </tbody>\n",
       "</table>\n",
       "</div>"
      ],
      "text/plain": [
       "         date    wp1    wp2    wp3    wp4    wp5    wp6    wp7\n",
       "0  2009070100  0.045  0.233  0.494  0.105  0.056  0.118  0.051\n",
       "1  2009070101  0.085  0.249  0.257  0.105  0.066  0.066  0.051\n",
       "2  2009070102  0.020  0.175  0.178  0.033  0.015  0.026  0.000\n",
       "3  2009070103  0.060  0.085  0.109  0.022  0.010  0.013  0.000\n",
       "4  2009070104  0.045  0.032  0.079  0.039  0.010  0.000  0.000"
      ]
     },
     "execution_count": 3,
     "metadata": {},
     "output_type": "execute_result"
    }
   ],
   "source": [
    "train = pd.read_csv('./datasets/train.csv')\n",
    "train.head()"
   ]
  },
  {
   "cell_type": "code",
   "execution_count": 4,
   "id": "bfcc969f-3483-4273-8e80-c2fc1b27f73c",
   "metadata": {},
   "outputs": [
    {
     "name": "stdout",
     "output_type": "stream",
     "text": [
      "<class 'pandas.core.frame.DataFrame'>\n",
      "RangeIndex: 18757 entries, 0 to 18756\n",
      "Data columns (total 8 columns):\n",
      " #   Column  Non-Null Count  Dtype  \n",
      "---  ------  --------------  -----  \n",
      " 0   date    18757 non-null  int64  \n",
      " 1   wp1     18757 non-null  float64\n",
      " 2   wp2     18757 non-null  float64\n",
      " 3   wp3     18757 non-null  float64\n",
      " 4   wp4     18757 non-null  float64\n",
      " 5   wp5     18757 non-null  float64\n",
      " 6   wp6     18757 non-null  float64\n",
      " 7   wp7     18757 non-null  float64\n",
      "dtypes: float64(7), int64(1)\n",
      "memory usage: 1.1 MB\n"
     ]
    }
   ],
   "source": [
    "train.info()"
   ]
  },
  {
   "cell_type": "code",
   "execution_count": 5,
   "id": "2c0a7a67-d67c-415c-a29b-2197ce863881",
   "metadata": {},
   "outputs": [],
   "source": [
    "train['date'] = pd.to_datetime(train['date'], format='%Y%m%d%H')"
   ]
  },
  {
   "cell_type": "code",
   "execution_count": 6,
   "id": "6332a671-9b7d-4682-a59e-1c0ba1c40b30",
   "metadata": {},
   "outputs": [],
   "source": [
    "train.set_index('date', inplace=True)"
   ]
  },
  {
   "cell_type": "code",
   "execution_count": 7,
   "id": "efa9deb7-20df-49ab-bb2a-667decc24716",
   "metadata": {},
   "outputs": [
    {
     "data": {
      "text/html": [
       "<div>\n",
       "<style scoped>\n",
       "    .dataframe tbody tr th:only-of-type {\n",
       "        vertical-align: middle;\n",
       "    }\n",
       "\n",
       "    .dataframe tbody tr th {\n",
       "        vertical-align: top;\n",
       "    }\n",
       "\n",
       "    .dataframe thead th {\n",
       "        text-align: right;\n",
       "    }\n",
       "</style>\n",
       "<table border=\"1\" class=\"dataframe\">\n",
       "  <thead>\n",
       "    <tr style=\"text-align: right;\">\n",
       "      <th></th>\n",
       "      <th>count</th>\n",
       "      <th>mean</th>\n",
       "      <th>std</th>\n",
       "      <th>min</th>\n",
       "      <th>25%</th>\n",
       "      <th>50%</th>\n",
       "      <th>75%</th>\n",
       "      <th>max</th>\n",
       "    </tr>\n",
       "  </thead>\n",
       "  <tbody>\n",
       "    <tr>\n",
       "      <th>wp1</th>\n",
       "      <td>18757.0</td>\n",
       "      <td>0.252388</td>\n",
       "      <td>0.246381</td>\n",
       "      <td>0.0</td>\n",
       "      <td>0.050</td>\n",
       "      <td>0.175</td>\n",
       "      <td>0.381</td>\n",
       "      <td>0.947</td>\n",
       "    </tr>\n",
       "    <tr>\n",
       "      <th>wp2</th>\n",
       "      <td>18757.0</td>\n",
       "      <td>0.265983</td>\n",
       "      <td>0.273205</td>\n",
       "      <td>0.0</td>\n",
       "      <td>0.042</td>\n",
       "      <td>0.164</td>\n",
       "      <td>0.423</td>\n",
       "      <td>0.989</td>\n",
       "    </tr>\n",
       "    <tr>\n",
       "      <th>wp3</th>\n",
       "      <td>18757.0</td>\n",
       "      <td>0.334571</td>\n",
       "      <td>0.318636</td>\n",
       "      <td>0.0</td>\n",
       "      <td>0.069</td>\n",
       "      <td>0.217</td>\n",
       "      <td>0.563</td>\n",
       "      <td>0.978</td>\n",
       "    </tr>\n",
       "    <tr>\n",
       "      <th>wp4</th>\n",
       "      <td>18757.0</td>\n",
       "      <td>0.286173</td>\n",
       "      <td>0.295069</td>\n",
       "      <td>0.0</td>\n",
       "      <td>0.022</td>\n",
       "      <td>0.182</td>\n",
       "      <td>0.474</td>\n",
       "      <td>0.992</td>\n",
       "    </tr>\n",
       "    <tr>\n",
       "      <th>wp5</th>\n",
       "      <td>18757.0</td>\n",
       "      <td>0.272584</td>\n",
       "      <td>0.294221</td>\n",
       "      <td>0.0</td>\n",
       "      <td>0.040</td>\n",
       "      <td>0.157</td>\n",
       "      <td>0.415</td>\n",
       "      <td>0.966</td>\n",
       "    </tr>\n",
       "    <tr>\n",
       "      <th>wp6</th>\n",
       "      <td>18757.0</td>\n",
       "      <td>0.286774</td>\n",
       "      <td>0.283023</td>\n",
       "      <td>0.0</td>\n",
       "      <td>0.053</td>\n",
       "      <td>0.184</td>\n",
       "      <td>0.461</td>\n",
       "      <td>0.974</td>\n",
       "    </tr>\n",
       "    <tr>\n",
       "      <th>wp7</th>\n",
       "      <td>18757.0</td>\n",
       "      <td>0.290542</td>\n",
       "      <td>0.305272</td>\n",
       "      <td>0.0</td>\n",
       "      <td>0.025</td>\n",
       "      <td>0.177</td>\n",
       "      <td>0.505</td>\n",
       "      <td>0.960</td>\n",
       "    </tr>\n",
       "  </tbody>\n",
       "</table>\n",
       "</div>"
      ],
      "text/plain": [
       "       count      mean       std  min    25%    50%    75%    max\n",
       "wp1  18757.0  0.252388  0.246381  0.0  0.050  0.175  0.381  0.947\n",
       "wp2  18757.0  0.265983  0.273205  0.0  0.042  0.164  0.423  0.989\n",
       "wp3  18757.0  0.334571  0.318636  0.0  0.069  0.217  0.563  0.978\n",
       "wp4  18757.0  0.286173  0.295069  0.0  0.022  0.182  0.474  0.992\n",
       "wp5  18757.0  0.272584  0.294221  0.0  0.040  0.157  0.415  0.966\n",
       "wp6  18757.0  0.286774  0.283023  0.0  0.053  0.184  0.461  0.974\n",
       "wp7  18757.0  0.290542  0.305272  0.0  0.025  0.177  0.505  0.960"
      ]
     },
     "execution_count": 7,
     "metadata": {},
     "output_type": "execute_result"
    }
   ],
   "source": [
    "train.describe().T"
   ]
  },
  {
   "cell_type": "code",
   "execution_count": 8,
   "id": "8ff38f42-4b79-45d4-9f74-8302c90044ed",
   "metadata": {},
   "outputs": [
    {
     "ename": "TypeError",
     "evalue": "__new__() got an unexpected keyword argument 'start'",
     "output_type": "error",
     "traceback": [
      "\u001b[0;31m---------------------------------------------------------------------------\u001b[0m",
      "\u001b[0;31mTypeError\u001b[0m                                 Traceback (most recent call last)",
      "\u001b[0;32m<ipython-input-8-9a6de2c18b4a>\u001b[0m in \u001b[0;36m<module>\u001b[0;34m\u001b[0m\n\u001b[1;32m      2\u001b[0m \u001b[0;34m\u001b[0m\u001b[0m\n\u001b[1;32m      3\u001b[0m \u001b[0;31m# resample so missing hours are filled with NaN (including the gap after the series finished)\u001b[0m\u001b[0;34m\u001b[0m\u001b[0;34m\u001b[0m\u001b[0;34m\u001b[0m\u001b[0m\n\u001b[0;32m----> 4\u001b[0;31m \u001b[0mix\u001b[0m \u001b[0;34m=\u001b[0m \u001b[0mpd\u001b[0m\u001b[0;34m.\u001b[0m\u001b[0mDatetimeIndex\u001b[0m\u001b[0;34m(\u001b[0m\u001b[0mstart\u001b[0m\u001b[0;34m=\u001b[0m\u001b[0mtrain\u001b[0m\u001b[0;34m.\u001b[0m\u001b[0mindex\u001b[0m\u001b[0;34m[\u001b[0m\u001b[0;36m0\u001b[0m\u001b[0;34m]\u001b[0m\u001b[0;34m,\u001b[0m \u001b[0mend\u001b[0m\u001b[0;34m=\u001b[0m\u001b[0mtrain\u001b[0m\u001b[0;34m.\u001b[0m\u001b[0mindex\u001b[0m\u001b[0;34m[\u001b[0m\u001b[0;34m-\u001b[0m\u001b[0;36m1\u001b[0m\u001b[0;34m]\u001b[0m\u001b[0;34m+\u001b[0m\u001b[0mpd\u001b[0m\u001b[0;34m.\u001b[0m\u001b[0mTimedelta\u001b[0m\u001b[0;34m(\u001b[0m\u001b[0mhours\u001b[0m\u001b[0;34m=\u001b[0m\u001b[0;36m48\u001b[0m\u001b[0;34m)\u001b[0m\u001b[0;34m,\u001b[0m \u001b[0mfreq\u001b[0m\u001b[0;34m=\u001b[0m\u001b[0;34m'H'\u001b[0m\u001b[0;34m)\u001b[0m\u001b[0;34m\u001b[0m\u001b[0;34m\u001b[0m\u001b[0m\n\u001b[0m\u001b[1;32m      5\u001b[0m \u001b[0mno_gaps_df\u001b[0m \u001b[0;34m=\u001b[0m \u001b[0mtrain\u001b[0m\u001b[0;34m.\u001b[0m\u001b[0mcopy\u001b[0m\u001b[0;34m(\u001b[0m\u001b[0;34m)\u001b[0m\u001b[0;34m.\u001b[0m\u001b[0mreindex\u001b[0m\u001b[0;34m(\u001b[0m\u001b[0mix\u001b[0m\u001b[0;34m)\u001b[0m\u001b[0;34m\u001b[0m\u001b[0;34m\u001b[0m\u001b[0m\n\u001b[1;32m      6\u001b[0m \u001b[0;34m\u001b[0m\u001b[0m\n",
      "\u001b[0;31mTypeError\u001b[0m: __new__() got an unexpected keyword argument 'start'"
     ]
    }
   ],
   "source": [
    "# plot gaps in the time series data\n",
    "\n",
    "# resample so missing hours are filled with NaN (including the gap after the series finished)\n",
    "ix = pd.DatetimeIndex(start=train.index[0], end=train.index[-1]+pd.Timedelta(hours=48), freq='H')\n",
    "no_gaps_df = train.copy().reindex(ix)\n",
    "\n",
    "# create boolean for gap or no gap\n",
    "gaps = no_gaps_df.isna().astype(int)\n",
    "\n",
    "# plot gaps\n",
    "fig, ax = plt.subplots(7, 1, figsize=(12, 10))\n",
    "for n in range(7):\n",
    "    column = 'wp'+str(n + 1)\n",
    "    ax[n].plot(gaps.index, gaps[column], lw = 1)\n",
    "    ax[n].set_title('Power ouput - wind farm '+str(n + 1))\n",
    "plt.tight_layout();"
   ]
  },
  {
   "cell_type": "code",
   "execution_count": null,
   "id": "0e503b1d-3227-4543-8288-19a692fb1094",
   "metadata": {},
   "outputs": [],
   "source": []
  }
 ],
 "metadata": {
  "kernelspec": {
   "display_name": "Python 3",
   "language": "python",
   "name": "python3"
  },
  "language_info": {
   "codemirror_mode": {
    "name": "ipython",
    "version": 3
   },
   "file_extension": ".py",
   "mimetype": "text/x-python",
   "name": "python",
   "nbconvert_exporter": "python",
   "pygments_lexer": "ipython3",
   "version": "3.8.8"
  }
 },
 "nbformat": 4,
 "nbformat_minor": 5
}
